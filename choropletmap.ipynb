{
 "cells": [
  {
   "cell_type": "code",
   "execution_count": 1,
   "id": "ac05a4d4-6b5a-448b-9e79-fa44b060d876",
   "metadata": {},
   "outputs": [
    {
     "ename": "NameError",
     "evalue": "name 'pd' is not defined",
     "output_type": "error",
     "traceback": [
      "\u001b[1;31m---------------------------------------------------------------------------\u001b[0m",
      "\u001b[1;31mNameError\u001b[0m                                 Traceback (most recent call last)",
      "Cell \u001b[1;32mIn[1], line 2\u001b[0m\n\u001b[0;32m      1\u001b[0m \u001b[38;5;66;03m#Creating Choropleth maps\u001b[39;00m\n\u001b[1;32m----> 2\u001b[0m df_world_countries\u001b[38;5;241m=\u001b[39m\u001b[43mpd\u001b[49m\u001b[38;5;241m.\u001b[39mread_json(\u001b[38;5;124m'\u001b[39m\u001b[38;5;124mC:/Users/HomePC/Documents/GIS WORK/GIS PROJECTS/FOLIUM/world-countries.json\u001b[39m\u001b[38;5;124m'\u001b[39m)\n\u001b[0;32m      3\u001b[0m df_unemployment\u001b[38;5;241m=\u001b[39mpd\u001b[38;5;241m.\u001b[39mread_csv(\u001b[38;5;124m'\u001b[39m\u001b[38;5;124mC:/Users/HomePC/Documents/GIS WORK/GIS PROJECTS/FOLIUM/unemployment.csv\u001b[39m\u001b[38;5;124m'\u001b[39m, skiprows\u001b[38;5;241m=\u001b[39m\u001b[38;5;241m4\u001b[39m,delimiter\u001b[38;5;241m=\u001b[39m\u001b[38;5;124m'\u001b[39m\u001b[38;5;124m,\u001b[39m\u001b[38;5;124m'\u001b[39m)\n\u001b[0;32m      5\u001b[0m df_unemployment\n",
      "\u001b[1;31mNameError\u001b[0m: name 'pd' is not defined"
     ]
    }
   ],
   "source": [
    "#Creating Choropleth maps\n",
    "df_world_countries=pd.read_json('C:/Users/HomePC/Documents/GIS WORK/GIS PROJECTS/FOLIUM/world-countries.json')\n",
    "df_unemployment=pd.read_csv('C:/Users/HomePC/Documents/GIS WORK/GIS PROJECTS/FOLIUM/unemployment.csv', skiprows=4,delimiter=',')\n",
    "\n",
    "df_unemployment\n"
   ]
  },
  {
   "cell_type": "code",
   "execution_count": null,
   "id": "269592e8",
   "metadata": {},
   "outputs": [],
   "source": [
    "#cleaning the data\n",
    "df_unemployment_2018=df_unemployment[['Country Name','Country Code','2018' ]]\n",
    "df_unemployment_2018"
   ]
  },
  {
   "cell_type": "code",
   "execution_count": null,
   "id": "f4b41151",
   "metadata": {},
   "outputs": [],
   "source": [
    "#remove Nans\n",
    "df_unemployment_2018_clean=df_unemployment_2018.dropna()\n",
    "df_unemployment_2018_clean"
   ]
  },
  {
   "cell_type": "code",
   "execution_count": null,
   "id": "73ccbed9",
   "metadata": {},
   "outputs": [],
   "source": [
    "#prepare data for map \n",
    "legend_title='Unemployment Rate Per Country 2018 (%)'\n",
    "\n",
    "# filter dataframe to country code\n",
    "data_unemployment=df_unemployment_2018_clean[['Country Code', '2018']]\n",
    "data_unemployment\n",
    "\n"
   ]
  },
  {
   "cell_type": "code",
   "execution_count": null,
   "id": "2ec9ad78",
   "metadata": {},
   "outputs": [],
   "source": [
    "#setting the map\n",
    "map_unemployment=folium.Map(location=[8.7832, 34.5085], zoom_start=3)\n",
    "folium.Choropleth(geo_data='C:/Users/HomePC/Documents/GIS WORK/GIS PROJECTS/FOLIUM/world-countries.json',\n",
    "                            data=data_unemployment,\n",
    "                            columns=['Country Code', '2018'],\n",
    "                            key_on='feature.id',\n",
    "                            fill_color='YlOrRd',\n",
    "                            fill_opacity=0.7,\n",
    "                            line_opacity=0.2,\n",
    "                            legend_name=legend_title\n",
    "                           ).add_to(map_unemployment)\n",
    "map_unemployment"
   ]
  },
  {
   "cell_type": "code",
   "execution_count": null,
   "id": "55f3b84e",
   "metadata": {},
   "outputs": [],
   "source": [
    "#Measuring Boundaries\n",
    "df_dam_levels=pd.read_csv('https://raw.githubusercontent.com/EBISYS/Mapping-Dam-Levels/refs/heads/master/DamLevels.txt', delimiter=',')\n",
    "df_dam_levels\n"
   ]
  },
  {
   "cell_type": "code",
   "execution_count": null,
   "id": "228811f7",
   "metadata": {},
   "outputs": [],
   "source": [
    "df_location=pd.read_csv('https://raw.githubusercontent.com/EBISYS/Mapping-Dam-Levels/refs/heads/master/damLocations.txt', delimiter=',')\n",
    "df_location"
   ]
  },
  {
   "cell_type": "code",
   "execution_count": null,
   "id": "d86d89a8",
   "metadata": {},
   "outputs": [],
   "source": [
    "#join the dams together on the dams field\n",
    "df_dam_data=pd.merge(df_dam_levels, df_location, on='Dam', how='left')\n",
    "df_dam_data\n"
   ]
  },
  {
   "cell_type": "code",
   "execution_count": null,
   "id": "f5a83029",
   "metadata": {},
   "outputs": [],
   "source": [
    "#prepare plotting data\n",
    "df_dams_locations=df_dam_data[['Latitude','Longitude']]\n",
    "\n",
    "# convert into a list\n",
    "dams_locations_list=df_dams_locations.values.tolist()\n",
    "dams_locations_size=len(dams_locations_list)\n",
    "dams_locations_size"
   ]
  },
  {
   "cell_type": "code",
   "execution_count": null,
   "id": "bee12b46",
   "metadata": {},
   "outputs": [],
   "source": [
    "map_dams=folium.Map(location=[-33.925, 18.625], zoom_start=10)\n",
    "for point in range (0, dams_locations_size):\n",
    "    folium.Marker(dams_locations_list[point], popup=df_dam_data['Dam'][point]\n",
    "    ).add_to(map_dams)\n",
    "map_dams"
   ]
  },
  {
   "cell_type": "code",
   "execution_count": null,
   "id": "fdda6880",
   "metadata": {},
   "outputs": [],
   "source": [
    "map_url=folium.Map(location=[-33.625, 18.625], \n",
    "                   tiles='https://services.arcgisonline.com/ArcGIS/rest/services/World_Imagery/MapServer/tile/{z}/{y}/{x}',\n",
    "                    zoom_start=12,\n",
    "                   attr='ArcGIS Online'\n",
    "                  )\n",
    "\n",
    "for point in range (0, dams_locations_size):\n",
    "    folium.Marker(dams_locations_list[point], popup=df_dam_data['Dam'][point]\n",
    "    ).add_to(map_url)\n",
    "map_url"
   ]
  },
  {
   "cell_type": "code",
   "execution_count": null,
   "id": "56e13415",
   "metadata": {},
   "outputs": [],
   "source": [
    "#measure control\n",
    "from folium.plugins import MeasureControl\n",
    "\n",
    "map_url.add_child(MeasureControl())\n",
    "map_url"
   ]
  },
  {
   "cell_type": "code",
   "execution_count": null,
   "id": "ffad65c6",
   "metadata": {},
   "outputs": [],
   "source": [
    "#Creating Layers Control and Basemaps\n",
    "map_layers=map_points\n",
    "\n",
    "add='/MapServer/tile/{z}/{y}/{x}'\n",
    "ESRI= dict(\n",
    "    World_Ocean_Base='https://services.arcgisonline.com/ArcGIS/rest/services/World_Ocean_Base',\n",
    "    World_Navigation_Charts='https://services.arcgisonline.com/ArcGIS/rest/services/Specialty/World_Navigation_Charts',\n",
    "    NatGeo_World_Map='https://services.arcgisonline.com/ArcGIS/rest/services/NatGeo_World_Map/MapServer',\n",
    "    World_Imagery='https://services.arcgisonline.com/ArcGIS/rest/services/World_Imagery/MapServer',\n",
    "    World_Physical_Map='https://services.arcgisonline.com/ArcGIS/rest/services/World_Physical_Map/MapServer',\n",
    "    World_Shaded_Relief='https://services.arcgisonline.com/ArcGIS/rest/services/World_Shaded_Relief/MapServer',\n",
    "    World_Street_Map='https://services.arcgisonline.com/ArcGIS/rest/services/World_Street_Map/MapServer',\n",
    "    World_Terrain_Base='https://services.arcgisonline.com/ArcGIS/rest/services/World_Terrain_Base/MapServer',\n",
    "    World_Topo_map='https://services.arcgisonline.com/ArcGIS/rest/services/World_Topo_Map/MapServer'   \n",
    ")\n",
    "\n",
    "for tile_name, tile_url in ESRI.items():\n",
    "    tile_url+=add\n",
    "    folium.TileLayer(tile_url,\n",
    "                    name=tile_name,\n",
    "                    attr='ESRI').add_to(map_points)\n",
    "\n",
    "folium.LayerControl().add_to(map_layers)\n",
    "map_layers\n"
   ]
  }
 ],
 "metadata": {
  "kernelspec": {
   "display_name": "geo_new",
   "language": "python",
   "name": "python3"
  },
  "language_info": {
   "codemirror_mode": {
    "name": "ipython",
    "version": 3
   },
   "file_extension": ".py",
   "mimetype": "text/x-python",
   "name": "python",
   "nbconvert_exporter": "python",
   "pygments_lexer": "ipython3",
   "version": "3.11.11"
  }
 },
 "nbformat": 4,
 "nbformat_minor": 5
}
